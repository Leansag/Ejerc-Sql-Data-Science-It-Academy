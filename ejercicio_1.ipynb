{
 "cells": [
  {
   "cell_type": "markdown",
   "metadata": {},
   "source": [
    "**Ejercicio 1**\n"
   ]
  },
  {
   "cell_type": "markdown",
   "metadata": {},
   "source": [
    "![Alt text](image.png)"
   ]
  },
  {
   "cell_type": "markdown",
   "metadata": {},
   "source": [
    "En este database se pueden observar 5 tablas distintas (tb_role, tb_movie,tb_role,_tb_movie_person y tb_person) cada una contiene distintas variables, que son las que tienen los datos de las columnas que representan, y tambien como cada tabla tiene una Primary key que es la primera variable que figura en cada tabla, a excepcion de la tabla tb_movie_person , que sus primeras 3 son Primary key (movie_id, person_id, role_id). En las parte inferior de cada tabla se puede ver si esa tabla cuenta con una Foreing Key (fk), que son las key con las que pueden relacionarse con otra tabla, que contenga la misma variable, por ej: tb_movie_person, cuenta con una Foreing key (person_id) que tambien figura en tb_person y hace referencia a esta.\n",
    "Tambien se puede visualizar que cada variable tiene declarada a su lado el tipo de dato que almacena, por ej en tb_movie, se puede ver como la variable \"movie_id\" contiene datos \"INT\" , como la variable \"movie_title\" contiene datos \"VARCHAR\" y \"movie_date\" contiene datos \"DATE\"."
   ]
  },
  {
   "cell_type": "code",
   "execution_count": 47,
   "metadata": {},
   "outputs": [
    {
     "name": "stdout",
     "output_type": "stream",
     "text": [
      "<mysql.connector.connection_cext.CMySQLConnection object at 0x000001DBBB7642B0>\n"
     ]
    }
   ],
   "source": [
    "import mysql.connector\n",
    "\n",
    "mydb = mysql.connector.connect(\n",
    "  host=\"localhost\",\n",
    "  user=\"root\",\n",
    "  password=\"Cholista123\",\n",
    "  database = \"movies\"\n",
    ")\n",
    "print(mydb)"
   ]
  },
  {
   "cell_type": "markdown",
   "metadata": {},
   "source": [
    "***Ejercicio 2***"
   ]
  },
  {
   "cell_type": "code",
   "execution_count": 48,
   "metadata": {},
   "outputs": [
    {
     "name": "stdout",
     "output_type": "stream",
     "text": [
      "('John Williams', 'United States', datetime.date(1928, 8, 8))\n",
      "('Vera Miles', 'United States', datetime.date(1929, 8, 23))\n",
      "('Sean Connery', 'Scotland', datetime.date(1930, 7, 8))\n",
      "('Robert Duvall', 'United States', datetime.date(1931, 1, 5))\n",
      "('Morgan Freeman', 'United States', datetime.date(1935, 10, 1))\n",
      "('Francis Ford Coppola', 'United States', datetime.date(1939, 4, 7))\n",
      "('Gary Kurtz', 'United States', datetime.date(1940, 7, 27))\n",
      "('Martin Sheen', 'United States', datetime.date(1940, 8, 3))\n",
      "('Harrison Ford', 'United States', datetime.date(1942, 7, 13))\n",
      "('George Lucas', 'United States', datetime.date(1944, 5, 14))\n",
      "('Carmine Coppola', 'United States', datetime.date(1945, 7, 8))\n",
      "('Steven Spielberg', 'United States', datetime.date(1946, 12, 18))\n",
      "('Tim Robbins', 'United States', datetime.date(1949, 6, 7))\n",
      "('Mel Gibson', 'Australia', datetime.date(1950, 8, 9))\n",
      "('Tom Hanks', 'United States', datetime.date(1956, 7, 9))\n",
      "('Emilio Martinez Lazaro', 'Spain', datetime.date(1956, 9, 9))\n",
      "('Karra Elejalde', 'Spain', datetime.date(1960, 3, 6))\n",
      "('Emilio Estevez', 'United States', datetime.date(1962, 5, 12))\n",
      "('Ramón Estevez', 'United States', datetime.date(1963, 8, 7))\n",
      "('Carmen Machi', 'Spain', datetime.date(1964, 8, 9))\n",
      "('Charlie Sheen', 'United States', datetime.date(1965, 9, 3))\n",
      "('Reneé Estevez', 'United States', datetime.date(1967, 4, 2))\n",
      "('Catherine Zeta-Jones', 'Wales', datetime.date(1969, 9, 25))\n",
      "('Robert Alamo', 'Spain', datetime.date(1970, 5, 6))\n",
      "('Daniel Sanchez Arevalo', 'Spain', datetime.date(1970, 6, 8))\n",
      "('Quim Gutierrez', 'Spain', datetime.date(1981, 3, 27))\n",
      "('Veronica Echegui', 'Spain', datetime.date(1983, 3, 14))\n",
      "('Taylor Levi Estevez', 'United States', datetime.date(1984, 6, 22))\n",
      "('Dani Rovira', 'Spain', datetime.date(1984, 7, 1))\n",
      "('Paula Speert Sheen', 'United States', datetime.date(1986, 1, 6))\n",
      "('Paloma Rae Estevez', 'United States', datetime.date(1986, 2, 15))\n",
      "('Clara Lago', 'Spain', datetime.date(1986, 4, 17))\n",
      "('Patrick Criado', 'Spain', datetime.date(1995, 9, 23))\n",
      "('Paula Jones-Sheen', 'United States', datetime.date(2003, 7, 6))\n",
      "('Sam Sheen', 'United States', datetime.date(2004, 3, 9))\n",
      "('Lola Sheen', 'United States', datetime.date(2005, 6, 1))\n",
      "('Bob Sheen', 'United States', datetime.date(2009, 5, 1))\n",
      "('Max Sheen', 'United States', datetime.date(2009, 5, 1))\n"
     ]
    }
   ],
   "source": [
    "cursor = mydb.cursor()\n",
    "\n",
    "cursor.execute('SELECT person_name, person_country, person_dob FROM tb_person WHERE person_dod IS null ORDER BY person_dob asc;')\n",
    "\n",
    "for bd in cursor:\n",
    "    print(bd)"
   ]
  },
  {
   "cell_type": "markdown",
   "metadata": {},
   "source": [
    "**Ejercicio 3**"
   ]
  },
  {
   "cell_type": "code",
   "execution_count": 49,
   "metadata": {},
   "outputs": [
    {
     "name": "stdout",
     "output_type": "stream",
     "text": [
      "('Comedia', 3)\n",
      "('Acción', 2)\n",
      "('Ciencia Ficción', 2)\n",
      "('Drama', 2)\n",
      "('Suspense', 2)\n",
      "('Fantasía', 1)\n",
      "('Romance', 1)\n",
      "('Terror', 1)\n",
      "('Bélico', 1)\n"
     ]
    }
   ],
   "source": [
    "cursor = mydb.cursor()\n",
    "\n",
    "cursor.execute('SELECT genre_name, count(genre_id) FROM tb_movie JOIN tb_genre ON tb_genre.genre_id = tb_movie.movie_genre_id GROUP BY genre_name ORDER BY count(genre_id) desc;')\n",
    "\n",
    "for bd in cursor:\n",
    "    print(bd)"
   ]
  },
  {
   "cell_type": "markdown",
   "metadata": {},
   "source": [
    "**Ejercicio 4**"
   ]
  },
  {
   "cell_type": "code",
   "execution_count": 50,
   "metadata": {},
   "outputs": [
    {
     "name": "stdout",
     "output_type": "stream",
     "text": [
      "('Francis Ford Coppola', 3, 'Apocalypse Now')\n",
      "('Carmine Coppola', 1, 'Apocalypse Now')\n",
      "('Marlon Brando', 1, 'Apocalypse Now')\n",
      "('Robert Duvall', 1, 'Apocalypse Now')\n",
      "('Martin Sheen', 1, 'Apocalypse Now')\n",
      "('Harrison Ford', 1, 'Apocalypse Now')\n",
      "('Charlie Sheen', 1, 'Apocalypse Now')\n",
      "('Harrison Ford', 1, 'Star Wars:Episode IV - A New Hope')\n",
      "('George Lucas', 1, 'Star Wars:Episode IV - A New Hope')\n",
      "('Gary Kurtz', 1, 'Star Wars:Episode IV - A New Hope')\n",
      "('Harrison Ford', 1, 'Indiana Jones and the Temple of Doom')\n",
      "('George Lucas', 2, 'Indiana Jones and the Temple of Doom')\n",
      "('Steven Spielberg', 1, 'Indiana Jones and the Temple of Doom')\n",
      "('John Williams', 1, 'Indiana Jones and the Temple of Doom')\n",
      "('Steven Spielberg', 2, 'The Terminal')\n",
      "('Tom Hanks', 1, 'The Terminal')\n",
      "('Catherine Zeta-Jones', 1, 'The Terminal')\n",
      "('Steven Spielberg', 1, 'Jaws')\n",
      "('Steven Spielberg', 1, 'ET The Extraterrestrial')\n",
      "('Alfred Joseph Hitchcock', 3, 'Psycho')\n",
      "('Anthony Perkins', 1, 'Psycho')\n",
      "('Vera Miles', 1, 'Psycho')\n",
      "('Emilio Martinez Lazaro', 1, 'Ocho Apellidos Vascos')\n",
      "('Dani Rovira', 1, 'Ocho Apellidos Vascos')\n",
      "('Clara Lago', 1, 'Ocho Apellidos Vascos')\n",
      "('Carmen Machi', 1, 'Ocho Apellidos Vascos')\n",
      "('Karra Elejalde', 1, 'Ocho Apellidos Vascos')\n",
      "('Emilio Martinez Lazaro', 1, 'Ocho Apellidos Catalanes')\n",
      "('Dani Rovira', 1, 'Ocho Apellidos Catalanes')\n",
      "('Clara Lago', 1, 'Ocho Apellidos Catalanes')\n",
      "('Carmen Machi', 1, 'Ocho Apellidos Catalanes')\n",
      "('Karra Elejalde', 1, 'Ocho Apellidos Catalanes')\n",
      "('Emilio Martinez Lazaro', 1, 'El otro lado de la cama')\n",
      "('Mel Gibson', 2, 'Braveheart')\n",
      "('Morgan Freeman', 1, 'The Shawshank Redemption')\n",
      "('Tim Robbins', 1, 'The Shawshank Redemption')\n"
     ]
    }
   ],
   "source": [
    "cursor = mydb.cursor()\n",
    "\n",
    "cursor.execute('SELECT person_name, count(role_id) as Max_rol, movie_title from movies.tb_person p JOIN movies.tb_movie_person m ON p.person_id = m.person_id JOIN movies.tb_movie tm ON tm.movie_id = m.movie_id GROUP BY p.person_name, m.movie_id HAVING max(role_id);')\n",
    "\n",
    "for bd in cursor:\n",
    "    print(bd)"
   ]
  },
  {
   "cell_type": "markdown",
   "metadata": {},
   "source": [
    "**Ejercicio 5**"
   ]
  },
  {
   "cell_type": "code",
   "execution_count": 51,
   "metadata": {},
   "outputs": [
    {
     "name": "stdout",
     "output_type": "stream",
     "text": [
      "(1, 'Acción', 'OS_SGAD', None, None)\n",
      "(2, 'Ciencia Ficción', 'OS_SGAD', None, None)\n",
      "(3, 'Comedia', 'OS_SGAD', None, None)\n",
      "(4, 'Drama', 'OS_SGAD', None, None)\n",
      "(5, 'Fantasía', 'apermag', None, None)\n",
      "(6, 'Melodrama', 'apermag', datetime.date(2018, 9, 1), datetime.date(2018, 9, 27))\n",
      "(7, 'Musical', 'OS_SGAD', None, None)\n",
      "(8, 'Romance', 'OS_SGAD', None, None)\n",
      "(9, 'Suspense', 'OS_SGAD', None, None)\n",
      "(10, 'Terror', 'OS_SGAD', None, None)\n",
      "(11, 'Bélico', 'OS_SGAD', None, None)\n",
      "(69, 'Documental', 'OS_SGAD', None, None)\n"
     ]
    }
   ],
   "source": [
    "cursor = mydb.cursor()\n",
    "\n",
    "cursor.execute('SELECT * FROM tb_genre; INSERT INTO tb_genre(genre_id, genre_name) VALUES (69,\"Documental\");')\n",
    "\n",
    "for bd in cursor:\n",
    "    print(bd)"
   ]
  },
  {
   "cell_type": "markdown",
   "metadata": {},
   "source": [
    "**Ejercicio 6**\n",
    "\n",
    "En este ejercicio, Sql no permitira borrar el registro, porque al tener una FOREING KEY en otra tabla, no permite borrar.\n",
    "Hay 2 formas que se podrian tomar, en este punto se procedio a borrar a el registro \"hijo\", se borro primero los registros \"movie_id\" relacionados al id 11, en la tabla tb_movie_persona y luego se ejecuto la linea de DELETE, como figura. Esta forma se hizo porque solo habia una una tabla en la que borrar registros, pero esta manera no es recomendada, si hay numero \"n\" de tablas y no sabemos en cual es la que hay que borrar primero.\n",
    "Por eso es recomendable el otro metodo que se utiliza en CASCADE, donde se debe tocar la FOREING KEY y utilizar la opcion ON DELETE CASCADE, esto permite al borrar al el registro padre, los registros hijos tambien se borran."
   ]
  },
  {
   "cell_type": "code",
   "execution_count": 52,
   "metadata": {},
   "outputs": [
    {
     "name": "stdout",
     "output_type": "stream",
     "text": [
      "(1, 'Apocalypse Now', datetime.date(1979, 5, 10), 'Film', 11, 'OS_SGAD', None, None)\n",
      "(2, 'Star Wars:Episode IV - A New Hope', datetime.date(1977, 5, 25), 'Film', 2, 'OS_SGAD', None, None)\n",
      "(3, 'Indiana Jones and the Temple of Doom', datetime.date(1984, 5, 8), 'Film', 1, 'OS_SGAD', None, None)\n",
      "(4, 'The Terminal', datetime.date(2004, 6, 18), 'Digital', 3, 'OS_SGAD', None, None)\n",
      "(5, 'Jaws', datetime.date(1975, 1, 1), 'Film', 10, 'OS_SGAD', None, None)\n",
      "(6, 'ET The Extraterrestrial', datetime.date(1982, 7, 25), 'Film', 5, 'OS_SGAD', None, None)\n",
      "(7, 'Psycho', datetime.date(1960, 5, 6), 'Film', 9, 'OS_SGAD', None, None)\n",
      "(8, 'Ocho Apellidos Vascos', datetime.date(2014, 3, 14), 'Digital', 3, 'OS_SGAD', None, None)\n",
      "(9, 'Ocho Apellidos Catalanes', datetime.date(2016, 6, 9), 'Digital', 3, 'OS_SGAD', None, None)\n",
      "(10, 'El otro lado de la cama', datetime.date(2002, 9, 4), 'Digital', 8, 'OS_SGAD', None, None)\n",
      "(12, 'El dia de la bestia', datetime.date(1994, 12, 25), 'Film', 1, 'OS_SGAD', None, None)\n",
      "(13, 'Braveheart', datetime.date(1995, 8, 8), 'Film', 4, 'OS_SGAD', None, None)\n",
      "(14, 'The Shawshank Redemption', datetime.date(1992, 1, 7), 'Film', 4, 'OS_SGAD', None, None)\n",
      "(15, 'Las brujas de Zugarramurdi', datetime.date(2009, 10, 7), 'Digital', 9, 'OS_SGAD', None, None)\n",
      "(16, 'Blade Runner', datetime.date(1982, 12, 25), 'Digital', 2, 'OS_SGAD', None, None)\n"
     ]
    }
   ],
   "source": [
    "\n",
    "\n",
    "mydb.reconnect()\n",
    "cursor = mydb.cursor()\n",
    "\n",
    "cursor.execute('DELETE FROM tb_movie WHERE movie_id = 11')\n",
    "\n",
    "for bd in cursor:\n",
    "    print(bd)\n",
    "\n",
    "mydb.reconnect()\n",
    "cursor = mydb.cursor()\n",
    "\n",
    "cursor.execute('SELECT * FROM tb_movie')\n",
    "\n",
    "for bd in cursor:\n",
    "    print(bd)"
   ]
  },
  {
   "cell_type": "markdown",
   "metadata": {},
   "source": [
    "**Ejercicio 7**"
   ]
  },
  {
   "cell_type": "code",
   "execution_count": 53,
   "metadata": {},
   "outputs": [
    {
     "name": "stdout",
     "output_type": "stream",
     "text": [
      "(1, 'Apocalypse Now', datetime.date(1979, 5, 10), 'Film', 11, 'OS_SGAD', None, None)\n",
      "(2, 'Star Wars:Episode IV - A New Hope', datetime.date(1977, 5, 25), 'Film', 2, 'OS_SGAD', None, None)\n",
      "(3, 'Indiana Jones and the Temple of Doom', datetime.date(1984, 5, 8), 'Film', 1, 'OS_SGAD', None, None)\n",
      "(4, 'The Terminal', datetime.date(2004, 6, 18), 'Digital', 3, 'OS_SGAD', None, None)\n",
      "(5, 'Jaws', datetime.date(1975, 1, 1), 'Film', 10, 'OS_SGAD', None, None)\n",
      "(6, 'ET The Extraterrestrial', datetime.date(1982, 7, 25), 'Film', 5, 'OS_SGAD', None, None)\n",
      "(7, 'Psycho', datetime.date(1960, 5, 6), 'Film', 9, 'OS_SGAD', None, None)\n",
      "(8, 'Ocho Apellidos Vascos', datetime.date(2014, 3, 14), 'Digital', 3, 'OS_SGAD', None, None)\n",
      "(9, 'Ocho Apellidos Catalanes', datetime.date(2016, 6, 9), 'Digital', 3, 'OS_SGAD', None, None)\n",
      "(10, 'El otro lado de la cama', datetime.date(2002, 9, 4), 'Digital', 8, 'OS_SGAD', None, None)\n",
      "(12, 'El dia de la bestia', datetime.date(1994, 12, 25), 'Film', 1, 'OS_SGAD', None, None)\n",
      "(13, 'Braveheart', datetime.date(1995, 8, 8), 'Film', 4, 'OS_SGAD', None, None)\n",
      "(14, 'The Shawshank Redemption', datetime.date(1992, 1, 7), 'Film', 4, 'OS_SGAD', None, None)\n",
      "(15, 'Las brujas de Zugarramurdi', datetime.date(2009, 10, 7), 'Digital', 9, 'OS_SGAD', None, None)\n",
      "(16, 'Blade Runner', datetime.date(1982, 12, 25), 'Digital', 2, 'OS_SGAD', None, None)\n"
     ]
    }
   ],
   "source": [
    "mydb.reconnect()\n",
    "cursor = mydb.cursor()\n",
    "\n",
    "cursor.execute('UPDATE tb_movie SET movie_genre_id = 3 WHERE movie_title = \"Ocho apellidos Catalanes\"')\n",
    "\n",
    "for bd in cursor:\n",
    "    print(bd)\n",
    "\n",
    "cursor.execute('SELECT * FROM tb_movie')\n",
    "\n",
    "for bd in cursor:\n",
    "    print(bd)"
   ]
  }
 ],
 "metadata": {
  "kernelspec": {
   "display_name": "Python 3",
   "language": "python",
   "name": "python3"
  },
  "language_info": {
   "codemirror_mode": {
    "name": "ipython",
    "version": 3
   },
   "file_extension": ".py",
   "mimetype": "text/x-python",
   "name": "python",
   "nbconvert_exporter": "python",
   "pygments_lexer": "ipython3",
   "version": "3.10.6"
  },
  "orig_nbformat": 4
 },
 "nbformat": 4,
 "nbformat_minor": 2
}
